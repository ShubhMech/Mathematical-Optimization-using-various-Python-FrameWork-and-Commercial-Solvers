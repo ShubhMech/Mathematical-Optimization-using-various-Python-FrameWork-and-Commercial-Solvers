{
 "cells": [
  {
   "cell_type": "code",
   "execution_count": 75,
   "id": "82b3ce8b",
   "metadata": {},
   "outputs": [],
   "source": [
    "from ortools.linear_solver import pywraplp"
   ]
  },
  {
   "cell_type": "code",
   "execution_count": 92,
   "id": "962abffa",
   "metadata": {},
   "outputs": [],
   "source": [
    "solver = pywraplp.Solver.CreateSolver('GLOP')"
   ]
  },
  {
   "cell_type": "code",
   "execution_count": 93,
   "id": "2fe67f9b",
   "metadata": {},
   "outputs": [],
   "source": [
    "x = solver.NumVar(0,10,'x')"
   ]
  },
  {
   "cell_type": "code",
   "execution_count": 94,
   "id": "a94bad56",
   "metadata": {},
   "outputs": [],
   "source": [
    "y= solver.NumVar(0,10,'y')"
   ]
  },
  {
   "cell_type": "code",
   "execution_count": 95,
   "id": "623ddfe5",
   "metadata": {},
   "outputs": [
    {
     "data": {
      "text/plain": [
       "<ortools.linear_solver.pywraplp.Constraint; proxy of <Swig Object of type 'operations_research::MPConstraint *' at 0x000001F3F6E84690> >"
      ]
     },
     "execution_count": 95,
     "metadata": {},
     "output_type": "execute_result"
    }
   ],
   "source": [
    "solver.Add(-x+2*y>=9)"
   ]
  },
  {
   "cell_type": "code",
   "execution_count": 101,
   "id": "2ccd3f9a",
   "metadata": {},
   "outputs": [
    {
     "data": {
      "text/plain": [
       "<ortools.linear_solver.pywraplp.Constraint; proxy of <Swig Object of type 'operations_research::MPConstraint *' at 0x000001F3F6E6E780> >"
      ]
     },
     "execution_count": 101,
     "metadata": {},
     "output_type": "execute_result"
    }
   ],
   "source": [
    "solver.Add(x+2*y >= 12)"
   ]
  },
  {
   "cell_type": "code",
   "execution_count": 102,
   "id": "537d1b8d",
   "metadata": {},
   "outputs": [],
   "source": [
    "solver.Minimize(2*x+12*y)"
   ]
  },
  {
   "cell_type": "code",
   "execution_count": 103,
   "id": "b9918fe1",
   "metadata": {},
   "outputs": [],
   "source": [
    "solution = solver.Solve()"
   ]
  },
  {
   "cell_type": "code",
   "execution_count": 104,
   "id": "a4f65c40",
   "metadata": {},
   "outputs": [
    {
     "data": {
      "text/plain": [
       "0"
      ]
     },
     "execution_count": 104,
     "metadata": {},
     "output_type": "execute_result"
    }
   ],
   "source": [
    "solution"
   ]
  },
  {
   "cell_type": "code",
   "execution_count": 105,
   "id": "a987ee69",
   "metadata": {},
   "outputs": [
    {
     "data": {
      "text/plain": [
       "1.5000000000000036"
      ]
     },
     "execution_count": 105,
     "metadata": {},
     "output_type": "execute_result"
    }
   ],
   "source": [
    "x.solution_value()"
   ]
  },
  {
   "cell_type": "code",
   "execution_count": 106,
   "id": "e2dd67bf",
   "metadata": {},
   "outputs": [
    {
     "data": {
      "text/plain": [
       "5.250000000000001"
      ]
     },
     "execution_count": 106,
     "metadata": {},
     "output_type": "execute_result"
    }
   ],
   "source": [
    "y.solution_value()"
   ]
  },
  {
   "cell_type": "code",
   "execution_count": null,
   "id": "53a15278",
   "metadata": {},
   "outputs": [],
   "source": []
  },
  {
   "cell_type": "code",
   "execution_count": null,
   "id": "04ddc216",
   "metadata": {},
   "outputs": [],
   "source": []
  }
 ],
 "metadata": {
  "kernelspec": {
   "display_name": "Python 3",
   "language": "python",
   "name": "python3"
  },
  "language_info": {
   "codemirror_mode": {
    "name": "ipython",
    "version": 3
   },
   "file_extension": ".py",
   "mimetype": "text/x-python",
   "name": "python",
   "nbconvert_exporter": "python",
   "pygments_lexer": "ipython3",
   "version": "3.8.5"
  }
 },
 "nbformat": 4,
 "nbformat_minor": 5
}
