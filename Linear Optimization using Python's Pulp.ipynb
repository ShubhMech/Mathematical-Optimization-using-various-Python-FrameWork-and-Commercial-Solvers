{
 "cells": [
  {
   "cell_type": "code",
   "execution_count": 1,
   "id": "ff18e8fc",
   "metadata": {},
   "outputs": [],
   "source": [
    "import pulp"
   ]
  },
  {
   "cell_type": "code",
   "execution_count": 2,
   "id": "f9f14dc5",
   "metadata": {},
   "outputs": [],
   "source": [
    "model = pulp.LpProblem('q1', pulp.LpMaximize)"
   ]
  },
  {
   "cell_type": "code",
   "execution_count": 3,
   "id": "96def139",
   "metadata": {},
   "outputs": [],
   "source": [
    "x = pulp.LpVariable('x',0,10)\n",
    "y= pulp.LpVariable('y',0,10)"
   ]
  },
  {
   "cell_type": "code",
   "execution_count": 4,
   "id": "f760d73a",
   "metadata": {},
   "outputs": [],
   "source": [
    "model += -x+2*y<=8\n",
    "model += 2*x+y<=14\n",
    "model += 2*x-y<= 10"
   ]
  },
  {
   "cell_type": "code",
   "execution_count": 5,
   "id": "4101f219",
   "metadata": {},
   "outputs": [],
   "source": [
    "model += x+y"
   ]
  },
  {
   "cell_type": "code",
   "execution_count": 6,
   "id": "eb0ba205",
   "metadata": {},
   "outputs": [],
   "source": [
    "status = model.solve()"
   ]
  },
  {
   "cell_type": "code",
   "execution_count": 9,
   "id": "2138fd45",
   "metadata": {},
   "outputs": [],
   "source": [
    "x_opt = pulp.value(x)"
   ]
  },
  {
   "cell_type": "code",
   "execution_count": 10,
   "id": "bb32cdda",
   "metadata": {},
   "outputs": [],
   "source": [
    "y_opt = pulp.value(y)"
   ]
  },
  {
   "cell_type": "code",
   "execution_count": 11,
   "id": "dc0f54f7",
   "metadata": {},
   "outputs": [
    {
     "data": {
      "text/plain": [
       "1"
      ]
     },
     "execution_count": 11,
     "metadata": {},
     "output_type": "execute_result"
    }
   ],
   "source": [
    "status"
   ]
  },
  {
   "cell_type": "code",
   "execution_count": 15,
   "id": "4faf821c",
   "metadata": {},
   "outputs": [
    {
     "data": {
      "text/plain": [
       "10.0"
      ]
     },
     "execution_count": 15,
     "metadata": {},
     "output_type": "execute_result"
    }
   ],
   "source": [
    "pulp.value(x+y)"
   ]
  },
  {
   "cell_type": "code",
   "execution_count": null,
   "id": "d26a5202",
   "metadata": {},
   "outputs": [],
   "source": []
  }
 ],
 "metadata": {
  "kernelspec": {
   "display_name": "Python 3",
   "language": "python",
   "name": "python3"
  },
  "language_info": {
   "codemirror_mode": {
    "name": "ipython",
    "version": 3
   },
   "file_extension": ".py",
   "mimetype": "text/x-python",
   "name": "python",
   "nbconvert_exporter": "python",
   "pygments_lexer": "ipython3",
   "version": "3.8.5"
  }
 },
 "nbformat": 4,
 "nbformat_minor": 5
}
